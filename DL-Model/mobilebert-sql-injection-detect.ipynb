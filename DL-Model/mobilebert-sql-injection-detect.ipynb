{
 "cells": [
  {
   "cell_type": "code",
   "execution_count": 1,
   "id": "a0705fee",
   "metadata": {},
   "outputs": [
    {
     "name": "stderr",
     "output_type": "stream",
     "text": [
      "C:\\Users\\yash sojitra\\AppData\\Local\\Packages\\PythonSoftwareFoundation.Python.3.12_qbz5n2kfra8p0\\LocalCache\\local-packages\\Python312\\site-packages\\tqdm\\auto.py:21: TqdmWarning: IProgress not found. Please update jupyter and ipywidgets. See https://ipywidgets.readthedocs.io/en/stable/user_install.html\n",
      "  from .autonotebook import tqdm as notebook_tqdm\n"
     ]
    }
   ],
   "source": [
    "# Imports\n",
    "import pandas as pd\n",
    "import torch\n",
    "from transformers import AutoTokenizer, AutoModelForSequenceClassification\n",
    "from sklearn.metrics import classification_report, accuracy_score, confusion_matrix"
   ]
  },
  {
   "cell_type": "code",
   "execution_count": 5,
   "id": "8c93b138",
   "metadata": {},
   "outputs": [
    {
     "name": "stdout",
     "output_type": "stream",
     "text": [
      "Running on: cuda\n",
      "CUDA version: 12.1\n"
     ]
    }
   ],
   "source": [
    "# Check for GPU\n",
    "device = torch.device(\"cuda\" if torch.cuda.is_available() else \"cpu\")\n",
    "print(f\"Running on: {device}\")\n",
    "print(\"CUDA version:\", torch.version.cuda)\n",
    "\n",
    "# import sys\n",
    "# print(\"CUDA available:\", torch.cuda.is_available())\n",
    "# print(\"CUDA version:\", torch.version.cuda)\n",
    "# print(\"Torch version:\", torch.__version__)\n",
    "# print(\"Python executable:\", sys.executable)\n"
   ]
  },
  {
   "cell_type": "code",
   "execution_count": 7,
   "id": "d15f2e8b",
   "metadata": {},
   "outputs": [
    {
     "data": {
      "text/plain": [
       "MobileBertForSequenceClassification(\n",
       "  (mobilebert): MobileBertModel(\n",
       "    (embeddings): MobileBertEmbeddings(\n",
       "      (word_embeddings): Embedding(30522, 128, padding_idx=0)\n",
       "      (position_embeddings): Embedding(512, 512)\n",
       "      (token_type_embeddings): Embedding(2, 512)\n",
       "      (embedding_transformation): Linear(in_features=384, out_features=512, bias=True)\n",
       "      (LayerNorm): NoNorm()\n",
       "      (dropout): Dropout(p=0.0, inplace=False)\n",
       "    )\n",
       "    (encoder): MobileBertEncoder(\n",
       "      (layer): ModuleList(\n",
       "        (0-23): 24 x MobileBertLayer(\n",
       "          (attention): MobileBertAttention(\n",
       "            (self): MobileBertSelfAttention(\n",
       "              (query): Linear(in_features=128, out_features=128, bias=True)\n",
       "              (key): Linear(in_features=128, out_features=128, bias=True)\n",
       "              (value): Linear(in_features=512, out_features=128, bias=True)\n",
       "              (dropout): Dropout(p=0.1, inplace=False)\n",
       "            )\n",
       "            (output): MobileBertSelfOutput(\n",
       "              (dense): Linear(in_features=128, out_features=128, bias=True)\n",
       "              (LayerNorm): NoNorm()\n",
       "            )\n",
       "          )\n",
       "          (intermediate): MobileBertIntermediate(\n",
       "            (dense): Linear(in_features=128, out_features=512, bias=True)\n",
       "            (intermediate_act_fn): ReLU()\n",
       "          )\n",
       "          (output): MobileBertOutput(\n",
       "            (dense): Linear(in_features=512, out_features=128, bias=True)\n",
       "            (LayerNorm): NoNorm()\n",
       "            (bottleneck): OutputBottleneck(\n",
       "              (dense): Linear(in_features=128, out_features=512, bias=True)\n",
       "              (LayerNorm): NoNorm()\n",
       "              (dropout): Dropout(p=0.0, inplace=False)\n",
       "            )\n",
       "          )\n",
       "          (bottleneck): Bottleneck(\n",
       "            (input): BottleneckLayer(\n",
       "              (dense): Linear(in_features=512, out_features=128, bias=True)\n",
       "              (LayerNorm): NoNorm()\n",
       "            )\n",
       "            (attention): BottleneckLayer(\n",
       "              (dense): Linear(in_features=512, out_features=128, bias=True)\n",
       "              (LayerNorm): NoNorm()\n",
       "            )\n",
       "          )\n",
       "          (ffn): ModuleList(\n",
       "            (0-2): 3 x FFNLayer(\n",
       "              (intermediate): MobileBertIntermediate(\n",
       "                (dense): Linear(in_features=128, out_features=512, bias=True)\n",
       "                (intermediate_act_fn): ReLU()\n",
       "              )\n",
       "              (output): FFNOutput(\n",
       "                (dense): Linear(in_features=512, out_features=128, bias=True)\n",
       "                (LayerNorm): NoNorm()\n",
       "              )\n",
       "            )\n",
       "          )\n",
       "        )\n",
       "      )\n",
       "    )\n",
       "    (pooler): MobileBertPooler()\n",
       "  )\n",
       "  (dropout): Dropout(p=0.0, inplace=False)\n",
       "  (classifier): Linear(in_features=512, out_features=2, bias=True)\n",
       ")"
      ]
     },
     "execution_count": 7,
     "metadata": {},
     "output_type": "execute_result"
    }
   ],
   "source": [
    "# Load Pretrained Model\n",
    "MODEL_NAME = \"cssupport/mobilebert-sql-injection-detect\"\n",
    "\n",
    "tokenizer = AutoTokenizer.from_pretrained(MODEL_NAME)\n",
    "model = AutoModelForSequenceClassification.from_pretrained(MODEL_NAME, trust_remote_code=True, use_safetensors=True)\n",
    "model.to(device)\n",
    "model.eval()"
   ]
  },
  {
   "cell_type": "code",
   "execution_count": 11,
   "id": "03b4ed17",
   "metadata": {},
   "outputs": [],
   "source": [
    "# Batch Prediction Function\n",
    "def predict_batch(queries, batch_size=32):\n",
    "    \"\"\"Run inference on a batch of queries and return predictions (0=benign, 1=SQLi).\"\"\"\n",
    "    preds = []\n",
    "    for i in range(0, len(queries), batch_size):\n",
    "        batch = queries[i:i+batch_size].tolist()\n",
    "        inputs = tokenizer(batch, return_tensors='pt', padding=True, truncation=True, max_length=512).to(device)\n",
    "        with torch.no_grad():\n",
    "            outputs = model(**inputs)\n",
    "            batch_preds = torch.argmax(outputs.logits, dim=1).cpu().numpy()\n",
    "        preds.extend(batch_preds)\n",
    "    return preds"
   ]
  },
  {
   "cell_type": "code",
   "execution_count": 12,
   "id": "86ebe286",
   "metadata": {},
   "outputs": [],
   "source": [
    "# Evaluation Function\n",
    "def evaluate_pretrained_model(dataset_path):\n",
    "    df = pd.read_csv(dataset_path)\n",
    "    X = df['Query']\n",
    "    y = df['Label']\n",
    "\n",
    "    y_pred = predict_batch(X)\n",
    "\n",
    "    print(\"=\" * 80)\n",
    "    print(f\"Results for Pretrained MobileBERT on {dataset_path}\")\n",
    "    print(\"Accuracy:\", accuracy_score(y, y_pred))\n",
    "    print(\"Confusion Matrix:\\n\", confusion_matrix(y, y_pred))\n",
    "    print(\"Classification Report:\\n\", classification_report(y, y_pred, digits=4))\n",
    "    print(\"=\" * 80)"
   ]
  },
  {
   "cell_type": "code",
   "execution_count": 13,
   "id": "96ff8120",
   "metadata": {},
   "outputs": [
    {
     "name": "stdout",
     "output_type": "stream",
     "text": [
      "================================================================================\n",
      "Results for Pretrained MobileBERT on ../Dataset/Raw/SQLi_Original_Raw.csv\n",
      "Accuracy: 0.9935961706394126\n",
      "Confusion Matrix:\n",
      " [[19482    55]\n",
      " [  143 11239]]\n",
      "Classification Report:\n",
      "               precision    recall  f1-score   support\n",
      "\n",
      "           0     0.9927    0.9972    0.9949     19537\n",
      "           1     0.9951    0.9874    0.9913     11382\n",
      "\n",
      "    accuracy                         0.9936     30919\n",
      "   macro avg     0.9939    0.9923    0.9931     30919\n",
      "weighted avg     0.9936    0.9936    0.9936     30919\n",
      "\n",
      "================================================================================\n"
     ]
    }
   ],
   "source": [
    "# Imbalanced\n",
    "evaluate_pretrained_model(\"../Dataset/Raw/SQLi_Original_Raw.csv\")"
   ]
  },
  {
   "cell_type": "code",
   "execution_count": 14,
   "id": "c61ed176",
   "metadata": {},
   "outputs": [
    {
     "name": "stdout",
     "output_type": "stream",
     "text": [
      "================================================================================\n",
      "Results for Pretrained MobileBERT on ../Dataset/Raw/SQLi_RUS_Raw.csv\n",
      "Accuracy: 0.9924442101563873\n",
      "Confusion Matrix:\n",
      " [[11353    29]\n",
      " [  143 11239]]\n",
      "Classification Report:\n",
      "               precision    recall  f1-score   support\n",
      "\n",
      "           0     0.9876    0.9975    0.9925     11382\n",
      "           1     0.9974    0.9874    0.9924     11382\n",
      "\n",
      "    accuracy                         0.9924     22764\n",
      "   macro avg     0.9925    0.9924    0.9924     22764\n",
      "weighted avg     0.9925    0.9924    0.9924     22764\n",
      "\n",
      "================================================================================\n"
     ]
    }
   ],
   "source": [
    "# RUS Balanced\n",
    "evaluate_pretrained_model(\"../Dataset/Raw/SQLi_RUS_Raw.csv\")"
   ]
  },
  {
   "cell_type": "code",
   "execution_count": 15,
   "id": "fc8891ca",
   "metadata": {},
   "outputs": [
    {
     "name": "stdout",
     "output_type": "stream",
     "text": [
      "================================================================================\n",
      "Results for Pretrained MobileBERT on ../Dataset/Raw/SQLi_ROS_Raw.csv\n",
      "Accuracy: 0.9923222603265599\n",
      "Confusion Matrix:\n",
      " [[19482    55]\n",
      " [  245 19292]]\n",
      "Classification Report:\n",
      "               precision    recall  f1-score   support\n",
      "\n",
      "           0     0.9876    0.9972    0.9924     19537\n",
      "           1     0.9972    0.9875    0.9923     19537\n",
      "\n",
      "    accuracy                         0.9923     39074\n",
      "   macro avg     0.9924    0.9923    0.9923     39074\n",
      "weighted avg     0.9924    0.9923    0.9923     39074\n",
      "\n",
      "================================================================================\n"
     ]
    }
   ],
   "source": [
    "# ROS Balanced\n",
    "evaluate_pretrained_model(\"../Dataset/Raw/SQLi_ROS_Raw.csv\")"
   ]
  }
 ],
 "metadata": {
  "kernelspec": {
   "display_name": "Python 3",
   "language": "python",
   "name": "python3"
  },
  "language_info": {
   "codemirror_mode": {
    "name": "ipython",
    "version": 3
   },
   "file_extension": ".py",
   "mimetype": "text/x-python",
   "name": "python",
   "nbconvert_exporter": "python",
   "pygments_lexer": "ipython3",
   "version": "3.12.10"
  }
 },
 "nbformat": 4,
 "nbformat_minor": 5
}
