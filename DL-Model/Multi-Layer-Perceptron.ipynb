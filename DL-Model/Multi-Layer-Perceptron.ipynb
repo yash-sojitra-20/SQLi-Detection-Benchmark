{
 "cells": [
  {
   "cell_type": "code",
   "execution_count": 1,
   "id": "7d80de29",
   "metadata": {},
   "outputs": [],
   "source": [
    "# MLPClassifier\n",
    "def run_model(dataset_path, model, vectorizer):\n",
    "    import pandas as pd\n",
    "    from sklearn.model_selection import train_test_split\n",
    "    from sklearn.metrics import classification_report, accuracy_score, confusion_matrix\n",
    "\n",
    "    # Load dataset\n",
    "    df = pd.read_csv(dataset_path)\n",
    "    X = df['Query']\n",
    "    y = df['Label']\n",
    "\n",
    "    # Train-test split\n",
    "    X_train, X_test, y_train, y_test = train_test_split(X, y, test_size=0.2, stratify=y, random_state=42)\n",
    "\n",
    "    # TF-IDF vectorization\n",
    "    X_train_vec = vectorizer.fit_transform(X_train)\n",
    "    X_test_vec = vectorizer.transform(X_test)\n",
    "\n",
    "    # Train model\n",
    "    model.fit(X_train_vec, y_train)\n",
    "\n",
    "    # Predict and evaluate\n",
    "    y_pred = model.predict(X_test_vec)\n",
    "    print(\"=\" * 80)\n",
    "    print(f\"Results for {model.__class__.__name__} on {dataset_path}\")\n",
    "    print(\"Accuracy:\", accuracy_score(y_test, y_pred))\n",
    "    print(\"Confusion Matrix:\\n\", confusion_matrix(y_test, y_pred))\n",
    "    print(\"Classification Report:\\n\", classification_report(y_test, y_pred, digits=4))\n",
    "    print(\"=\" * 80)\n"
   ]
  },
  {
   "cell_type": "code",
   "execution_count": 2,
   "id": "83b07fb3",
   "metadata": {},
   "outputs": [],
   "source": [
    "# SetUp\n",
    "from sklearn.neural_network import MLPClassifier\n",
    "from sklearn.feature_extraction.text import TfidfVectorizer\n",
    "\n",
    "# Vectorizer (same as before)\n",
    "vectorizer = TfidfVectorizer(analyzer='char_wb', ngram_range=(3,6), max_features=5000)\n",
    "\n",
    "# MLP Classifier\n",
    "model = MLPClassifier(\n",
    "    hidden_layer_sizes=(100,),  # One hidden layer with 100 neurons\n",
    "    activation='relu',          # Activation function\n",
    "    solver='adam',              # Optimizer\n",
    "    max_iter=300,               # Max iterations\n",
    "    random_state=42,\n",
    "    early_stopping=True         # Stop early if no improvement\n",
    ")"
   ]
  },
  {
   "cell_type": "code",
   "execution_count": 3,
   "id": "58a97ffe",
   "metadata": {},
   "outputs": [
    {
     "name": "stdout",
     "output_type": "stream",
     "text": [
      "================================================================================\n",
      "Results for MLPClassifier on ../Dataset/Raw/SQLi_Original_Raw.csv\n",
      "Accuracy: 0.9948253557567918\n",
      "Confusion Matrix:\n",
      " [[3903    5]\n",
      " [  27 2249]]\n",
      "Classification Report:\n",
      "               precision    recall  f1-score   support\n",
      "\n",
      "           0     0.9931    0.9987    0.9959      3908\n",
      "           1     0.9978    0.9881    0.9929      2276\n",
      "\n",
      "    accuracy                         0.9948      6184\n",
      "   macro avg     0.9955    0.9934    0.9944      6184\n",
      "weighted avg     0.9948    0.9948    0.9948      6184\n",
      "\n",
      "================================================================================\n"
     ]
    }
   ],
   "source": [
    "# Imbalanced\n",
    "run_model(\"../Dataset/Raw/SQLi_Original_Raw.csv\", model, vectorizer)"
   ]
  },
  {
   "cell_type": "code",
   "execution_count": 4,
   "id": "271ea05f",
   "metadata": {},
   "outputs": [
    {
     "name": "stdout",
     "output_type": "stream",
     "text": [
      "================================================================================\n",
      "Results for MLPClassifier on ../Dataset/Raw/SQLi_RUS_Raw.csv\n",
      "Accuracy: 0.9918734900065891\n",
      "Confusion Matrix:\n",
      " [[2267   10]\n",
      " [  27 2249]]\n",
      "Classification Report:\n",
      "               precision    recall  f1-score   support\n",
      "\n",
      "           0     0.9882    0.9956    0.9919      2277\n",
      "           1     0.9956    0.9881    0.9918      2276\n",
      "\n",
      "    accuracy                         0.9919      4553\n",
      "   macro avg     0.9919    0.9919    0.9919      4553\n",
      "weighted avg     0.9919    0.9919    0.9919      4553\n",
      "\n",
      "================================================================================\n"
     ]
    }
   ],
   "source": [
    "# RUS Balanced\n",
    "run_model(\"../Dataset/Raw/SQLi_RUS_Raw.csv\", model, vectorizer) "
   ]
  },
  {
   "cell_type": "code",
   "execution_count": 5,
   "id": "bee61b0d",
   "metadata": {},
   "outputs": [
    {
     "name": "stdout",
     "output_type": "stream",
     "text": [
      "================================================================================\n",
      "Results for MLPClassifier on ../Dataset/Raw/SQLi_ROS_Raw.csv\n",
      "Accuracy: 0.9955214331413947\n",
      "Confusion Matrix:\n",
      " [[3897   11]\n",
      " [  24 3883]]\n",
      "Classification Report:\n",
      "               precision    recall  f1-score   support\n",
      "\n",
      "           0     0.9939    0.9972    0.9955      3908\n",
      "           1     0.9972    0.9939    0.9955      3907\n",
      "\n",
      "    accuracy                         0.9955      7815\n",
      "   macro avg     0.9955    0.9955    0.9955      7815\n",
      "weighted avg     0.9955    0.9955    0.9955      7815\n",
      "\n",
      "================================================================================\n"
     ]
    }
   ],
   "source": [
    "# ROS Balanced\n",
    "run_model(\"../Dataset/Raw/SQLi_ROS_Raw.csv\", model, vectorizer)"
   ]
  }
 ],
 "metadata": {
  "kernelspec": {
   "display_name": "Python 3",
   "language": "python",
   "name": "python3"
  },
  "language_info": {
   "codemirror_mode": {
    "name": "ipython",
    "version": 3
   },
   "file_extension": ".py",
   "mimetype": "text/x-python",
   "name": "python",
   "nbconvert_exporter": "python",
   "pygments_lexer": "ipython3",
   "version": "3.12.10"
  }
 },
 "nbformat": 4,
 "nbformat_minor": 5
}
