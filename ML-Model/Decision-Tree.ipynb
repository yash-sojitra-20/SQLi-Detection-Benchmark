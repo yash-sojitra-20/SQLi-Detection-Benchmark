{
 "cells": [
  {
   "cell_type": "code",
   "execution_count": 3,
   "id": "9fd058bd",
   "metadata": {},
   "outputs": [],
   "source": [
    "# Decision Tree\n",
    "def run_model(dataset_path, model, vectorizer):\n",
    "    import pandas as pd\n",
    "    from sklearn.model_selection import train_test_split\n",
    "    from sklearn.metrics import classification_report, accuracy_score, confusion_matrix\n",
    "\n",
    "    # Load dataset\n",
    "    df = pd.read_csv(dataset_path)\n",
    "    X = df['Query']\n",
    "    y = df['Label']\n",
    "\n",
    "    # Train-test split\n",
    "    X_train, X_test, y_train, y_test = train_test_split(X, y, test_size=0.2, random_state=42, stratify=y)\n",
    "\n",
    "    # TF-IDF vectorization\n",
    "    X_train_vec = vectorizer.fit_transform(X_train)\n",
    "    X_test_vec = vectorizer.transform(X_test)\n",
    "\n",
    "    # Train model\n",
    "    model.fit(X_train_vec, y_train)\n",
    "\n",
    "    # Predict and evaluate\n",
    "    y_pred = model.predict(X_test_vec)\n",
    "    print(\"=\"*80)\n",
    "    print(f\"Results for {model.__class__.__name__} on {dataset_path}\")\n",
    "    print(\"Accuracy:\", accuracy_score(y_test, y_pred))\n",
    "    print(\"Confusion Matrix:\\n\", confusion_matrix(y_test, y_pred))\n",
    "    print(\"Classification Report:\\n\", classification_report(y_test, y_pred, digits=4))\n",
    "    print(\"=\"*80)\n"
   ]
  },
  {
   "cell_type": "code",
   "execution_count": 4,
   "id": "4aed72de",
   "metadata": {},
   "outputs": [],
   "source": [
    "# SetUp\n",
    "from sklearn.tree import DecisionTreeClassifier\n",
    "from sklearn.feature_extraction.text import TfidfVectorizer\n",
    "\n",
    "# Vectorizer (char-level n-grams)\n",
    "vectorizer = TfidfVectorizer(analyzer='char_wb', ngram_range=(3,6), max_features=5000)\n",
    "\n",
    "# Decision Tree model with basic settings\n",
    "model = DecisionTreeClassifier(random_state=42)"
   ]
  },
  {
   "cell_type": "code",
   "execution_count": 5,
   "id": "171b3ba6",
   "metadata": {},
   "outputs": [
    {
     "name": "stdout",
     "output_type": "stream",
     "text": [
      "================================================================================\n",
      "Results for DecisionTreeClassifier on ../Dataset/Raw/SQLi_Original_Raw.csv\n",
      "Accuracy: 0.9945019404915912\n",
      "Confusion Matrix:\n",
      " [[3899    9]\n",
      " [  25 2251]]\n",
      "Classification Report:\n",
      "               precision    recall  f1-score   support\n",
      "\n",
      "           0     0.9936    0.9977    0.9957      3908\n",
      "           1     0.9960    0.9890    0.9925      2276\n",
      "\n",
      "    accuracy                         0.9945      6184\n",
      "   macro avg     0.9948    0.9934    0.9941      6184\n",
      "weighted avg     0.9945    0.9945    0.9945      6184\n",
      "\n",
      "================================================================================\n"
     ]
    }
   ],
   "source": [
    "# Imbalanced\n",
    "run_model(\"../Dataset/Raw/SQLi_Original_Raw.csv\", model, vectorizer)"
   ]
  },
  {
   "cell_type": "code",
   "execution_count": 6,
   "id": "2d5c9fce",
   "metadata": {},
   "outputs": [
    {
     "name": "stdout",
     "output_type": "stream",
     "text": [
      "================================================================================\n",
      "Results for DecisionTreeClassifier on ../Dataset/Raw/SQLi_RUS_Raw.csv\n",
      "Accuracy: 0.9912145837909071\n",
      "Confusion Matrix:\n",
      " [[2262   15]\n",
      " [  25 2251]]\n",
      "Classification Report:\n",
      "               precision    recall  f1-score   support\n",
      "\n",
      "           0     0.9891    0.9934    0.9912      2277\n",
      "           1     0.9934    0.9890    0.9912      2276\n",
      "\n",
      "    accuracy                         0.9912      4553\n",
      "   macro avg     0.9912    0.9912    0.9912      4553\n",
      "weighted avg     0.9912    0.9912    0.9912      4553\n",
      "\n",
      "================================================================================\n"
     ]
    }
   ],
   "source": [
    "# Balanced - RUS\n",
    "run_model(\"../Dataset/Raw/SQLi_RUS_Raw.csv\", model, vectorizer)"
   ]
  },
  {
   "cell_type": "code",
   "execution_count": 7,
   "id": "5a1afaad",
   "metadata": {},
   "outputs": [
    {
     "name": "stdout",
     "output_type": "stream",
     "text": [
      "================================================================================\n",
      "Results for DecisionTreeClassifier on ../Dataset/Raw/SQLi_ROS_Raw.csv\n",
      "Accuracy: 0.9952655150351888\n",
      "Confusion Matrix:\n",
      " [[3887   21]\n",
      " [  16 3891]]\n",
      "Classification Report:\n",
      "               precision    recall  f1-score   support\n",
      "\n",
      "           0     0.9959    0.9946    0.9953      3908\n",
      "           1     0.9946    0.9959    0.9953      3907\n",
      "\n",
      "    accuracy                         0.9953      7815\n",
      "   macro avg     0.9953    0.9953    0.9953      7815\n",
      "weighted avg     0.9953    0.9953    0.9953      7815\n",
      "\n",
      "================================================================================\n"
     ]
    }
   ],
   "source": [
    "# Balanced - ROS\n",
    "run_model(\"../Dataset/Raw/SQLi_ROS_Raw.csv\", model, vectorizer)"
   ]
  }
 ],
 "metadata": {
  "kernelspec": {
   "display_name": "Python 3",
   "language": "python",
   "name": "python3"
  },
  "language_info": {
   "codemirror_mode": {
    "name": "ipython",
    "version": 3
   },
   "file_extension": ".py",
   "mimetype": "text/x-python",
   "name": "python",
   "nbconvert_exporter": "python",
   "pygments_lexer": "ipython3",
   "version": "3.12.10"
  }
 },
 "nbformat": 4,
 "nbformat_minor": 5
}
