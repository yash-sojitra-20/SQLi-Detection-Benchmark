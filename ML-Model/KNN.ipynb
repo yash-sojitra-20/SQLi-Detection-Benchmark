{
 "cells": [
  {
   "cell_type": "code",
   "execution_count": 1,
   "id": "2e919bd2",
   "metadata": {},
   "outputs": [],
   "source": [
    "# KNN - KNeighborsClassifier\n",
    "def run_model(dataset_path, model, vectorizer):\n",
    "    import pandas as pd\n",
    "    from sklearn.model_selection import train_test_split\n",
    "    from sklearn.metrics import classification_report, accuracy_score, confusion_matrix\n",
    "\n",
    "    # Load dataset\n",
    "    df = pd.read_csv(dataset_path)\n",
    "    X = df['Query']\n",
    "    y = df['Label']\n",
    "\n",
    "    # Train-test split\n",
    "    X_train, X_test, y_train, y_test = train_test_split(X, y, test_size=0.2, stratify=y, random_state=42)\n",
    "\n",
    "    # TF-IDF vectorization\n",
    "    X_train_vec = vectorizer.fit_transform(X_train)\n",
    "    X_test_vec = vectorizer.transform(X_test)\n",
    "\n",
    "    # Train model\n",
    "    model.fit(X_train_vec, y_train)\n",
    "\n",
    "    # Predict and evaluate\n",
    "    y_pred = model.predict(X_test_vec)\n",
    "    print(\"=\" * 80)\n",
    "    print(f\"Results for {model.__class__.__name__} on {dataset_path}\")\n",
    "    print(\"Accuracy:\", accuracy_score(y_test, y_pred))\n",
    "    print(\"Confusion Matrix:\\n\", confusion_matrix(y_test, y_pred))\n",
    "    print(\"Classification Report:\\n\", classification_report(y_test, y_pred, digits=4))\n",
    "    print(\"=\" * 80)\n"
   ]
  },
  {
   "cell_type": "code",
   "execution_count": 2,
   "id": "d9e5f2ec",
   "metadata": {},
   "outputs": [],
   "source": [
    "# SetUp\n",
    "from sklearn.neighbors import KNeighborsClassifier\n",
    "from sklearn.feature_extraction.text import TfidfVectorizer\n",
    "\n",
    "# Vectorizer (same settings as before)\n",
    "vectorizer = TfidfVectorizer(analyzer='char_wb', ngram_range=(3,6), max_features=5000)\n",
    "\n",
    "# K-Nearest Neighbors model\n",
    "model = KNeighborsClassifier(\n",
    "    n_neighbors=5,        # Default = 5 neighbors\n",
    "    weights='uniform',    # Can also try 'distance'\n",
    "    n_jobs=-1             # Use all cores (for large test sets)\n",
    ")"
   ]
  },
  {
   "cell_type": "code",
   "execution_count": 3,
   "id": "72c06bb9",
   "metadata": {},
   "outputs": [
    {
     "name": "stdout",
     "output_type": "stream",
     "text": [
      "================================================================================\n",
      "Results for KNeighborsClassifier on ../Dataset/Raw/SQLi_Original_Raw.csv\n",
      "Accuracy: 0.9605433376455369\n",
      "Confusion Matrix:\n",
      " [[3866   42]\n",
      " [ 202 2074]]\n",
      "Classification Report:\n",
      "               precision    recall  f1-score   support\n",
      "\n",
      "           0     0.9503    0.9893    0.9694      3908\n",
      "           1     0.9802    0.9112    0.9444      2276\n",
      "\n",
      "    accuracy                         0.9605      6184\n",
      "   macro avg     0.9652    0.9503    0.9569      6184\n",
      "weighted avg     0.9613    0.9605    0.9602      6184\n",
      "\n",
      "================================================================================\n"
     ]
    }
   ],
   "source": [
    "# Imbalanced\n",
    "run_model(\"../Dataset/Raw/SQLi_Original_Raw.csv\", model, vectorizer)"
   ]
  },
  {
   "cell_type": "code",
   "execution_count": 4,
   "id": "3f077f6f",
   "metadata": {},
   "outputs": [
    {
     "name": "stdout",
     "output_type": "stream",
     "text": [
      "================================================================================\n",
      "Results for KNeighborsClassifier on ../Dataset/Raw/SQLi_RUS_Raw.csv\n",
      "Accuracy: 0.9352075554579398\n",
      "Confusion Matrix:\n",
      " [[2222   55]\n",
      " [ 240 2036]]\n",
      "Classification Report:\n",
      "               precision    recall  f1-score   support\n",
      "\n",
      "           0     0.9025    0.9758    0.9378      2277\n",
      "           1     0.9737    0.8946    0.9324      2276\n",
      "\n",
      "    accuracy                         0.9352      4553\n",
      "   macro avg     0.9381    0.9352    0.9351      4553\n",
      "weighted avg     0.9381    0.9352    0.9351      4553\n",
      "\n",
      "================================================================================\n"
     ]
    }
   ],
   "source": [
    "# RUS Balanced\n",
    "run_model(\"../Dataset/Raw/SQLi_RUS_Raw.csv\", model, vectorizer) "
   ]
  },
  {
   "cell_type": "code",
   "execution_count": 5,
   "id": "da25ef1b",
   "metadata": {},
   "outputs": [
    {
     "name": "stdout",
     "output_type": "stream",
     "text": [
      "================================================================================\n",
      "Results for KNeighborsClassifier on ../Dataset/Raw/SQLi_ROS_Raw.csv\n",
      "Accuracy: 0.9564939219449776\n",
      "Confusion Matrix:\n",
      " [[3800  108]\n",
      " [ 232 3675]]\n",
      "Classification Report:\n",
      "               precision    recall  f1-score   support\n",
      "\n",
      "           0     0.9425    0.9724    0.9572      3908\n",
      "           1     0.9715    0.9406    0.9558      3907\n",
      "\n",
      "    accuracy                         0.9565      7815\n",
      "   macro avg     0.9570    0.9565    0.9565      7815\n",
      "weighted avg     0.9570    0.9565    0.9565      7815\n",
      "\n",
      "================================================================================\n"
     ]
    }
   ],
   "source": [
    "# ROS Balanced\n",
    "run_model(\"../Dataset/Raw/SQLi_ROS_Raw.csv\", model, vectorizer)"
   ]
  }
 ],
 "metadata": {
  "kernelspec": {
   "display_name": "Python 3",
   "language": "python",
   "name": "python3"
  },
  "language_info": {
   "codemirror_mode": {
    "name": "ipython",
    "version": 3
   },
   "file_extension": ".py",
   "mimetype": "text/x-python",
   "name": "python",
   "nbconvert_exporter": "python",
   "pygments_lexer": "ipython3",
   "version": "3.12.10"
  }
 },
 "nbformat": 4,
 "nbformat_minor": 5
}
