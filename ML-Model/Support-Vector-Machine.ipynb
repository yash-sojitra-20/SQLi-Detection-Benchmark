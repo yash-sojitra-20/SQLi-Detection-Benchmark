{
 "cells": [
  {
   "cell_type": "code",
   "execution_count": 1,
   "id": "1ab3999d",
   "metadata": {},
   "outputs": [],
   "source": [
    "# Support Vector Machine (SVM)\n",
    "def run_model(dataset_path, model, vectorizer):\n",
    "    import pandas as pd\n",
    "    from sklearn.model_selection import train_test_split\n",
    "    from sklearn.metrics import classification_report, accuracy_score, confusion_matrix\n",
    "\n",
    "    # Load dataset\n",
    "    df = pd.read_csv(dataset_path)\n",
    "    X = df['Query']\n",
    "    y = df['Label']\n",
    "\n",
    "    # Train-test split\n",
    "    X_train, X_test, y_train, y_test = train_test_split(X, y, test_size=0.2, stratify=y, random_state=42)\n",
    "\n",
    "    # TF-IDF vectorization\n",
    "    X_train_vec = vectorizer.fit_transform(X_train)\n",
    "    X_test_vec = vectorizer.transform(X_test)\n",
    "\n",
    "    # Train model\n",
    "    model.fit(X_train_vec, y_train)\n",
    "\n",
    "    # Predict and evaluate\n",
    "    y_pred = model.predict(X_test_vec)\n",
    "    print(\"=\" * 80)\n",
    "    print(f\"Results for {model.__class__.__name__} on {dataset_path}\")\n",
    "    print(\"Accuracy:\", accuracy_score(y_test, y_pred))\n",
    "    print(\"Confusion Matrix:\\n\", confusion_matrix(y_test, y_pred))\n",
    "    print(\"Classification Report:\\n\", classification_report(y_test, y_pred, digits=4))\n",
    "    print(\"=\" * 80)\n"
   ]
  },
  {
   "cell_type": "code",
   "execution_count": 2,
   "id": "21d01625",
   "metadata": {},
   "outputs": [],
   "source": [
    "# SetUp\n",
    "from sklearn.svm import SVC\n",
    "from sklearn.feature_extraction.text import TfidfVectorizer\n",
    "\n",
    "# TF-IDF vectorizer (char-level n-grams are great for SQLi detection)\n",
    "vectorizer = TfidfVectorizer(analyzer='char_wb', ngram_range=(3,6), max_features=5000)\n",
    "\n",
    "# Support Vector Machine model\n",
    "model = SVC(kernel='linear', C=1.0, random_state=42)  # Linear kernel usually best for text"
   ]
  },
  {
   "cell_type": "code",
   "execution_count": 3,
   "id": "87b3bf5a",
   "metadata": {},
   "outputs": [
    {
     "name": "stdout",
     "output_type": "stream",
     "text": [
      "================================================================================\n",
      "Results for SVC on ../Dataset/Raw/SQLi_Original_Raw.csv\n",
      "Accuracy: 0.9951487710219923\n",
      "Confusion Matrix:\n",
      " [[3906    2]\n",
      " [  28 2248]]\n",
      "Classification Report:\n",
      "               precision    recall  f1-score   support\n",
      "\n",
      "           0     0.9929    0.9995    0.9962      3908\n",
      "           1     0.9991    0.9877    0.9934      2276\n",
      "\n",
      "    accuracy                         0.9951      6184\n",
      "   macro avg     0.9960    0.9936    0.9948      6184\n",
      "weighted avg     0.9952    0.9951    0.9951      6184\n",
      "\n",
      "================================================================================\n"
     ]
    }
   ],
   "source": [
    "# Imbalanced\n",
    "run_model(\"../Dataset/Raw/SQLi_Original_Raw.csv\", model, vectorizer)"
   ]
  },
  {
   "cell_type": "code",
   "execution_count": 4,
   "id": "c64f2427",
   "metadata": {},
   "outputs": [
    {
     "name": "stdout",
     "output_type": "stream",
     "text": [
      "================================================================================\n",
      "Results for SVC on ../Dataset/Raw/SQLi_RUS_Raw.csv\n",
      "Accuracy: 0.9925323962222711\n",
      "Confusion Matrix:\n",
      " [[2270    7]\n",
      " [  27 2249]]\n",
      "Classification Report:\n",
      "               precision    recall  f1-score   support\n",
      "\n",
      "           0     0.9882    0.9969    0.9926      2277\n",
      "           1     0.9969    0.9881    0.9925      2276\n",
      "\n",
      "    accuracy                         0.9925      4553\n",
      "   macro avg     0.9926    0.9925    0.9925      4553\n",
      "weighted avg     0.9926    0.9925    0.9925      4553\n",
      "\n",
      "================================================================================\n"
     ]
    }
   ],
   "source": [
    "# RUS Balanced\n",
    "run_model(\"../Dataset/Raw/SQLi_RUS_Raw.csv\", model, vectorizer)"
   ]
  },
  {
   "cell_type": "code",
   "execution_count": 5,
   "id": "b2150b63",
   "metadata": {},
   "outputs": [
    {
     "name": "stdout",
     "output_type": "stream",
     "text": [
      "================================================================================\n",
      "Results for SVC on ../Dataset/Raw/SQLi_ROS_Raw.csv\n",
      "Accuracy: 0.9950095969289827\n",
      "Confusion Matrix:\n",
      " [[3904    4]\n",
      " [  35 3872]]\n",
      "Classification Report:\n",
      "               precision    recall  f1-score   support\n",
      "\n",
      "           0     0.9911    0.9990    0.9950      3908\n",
      "           1     0.9990    0.9910    0.9950      3907\n",
      "\n",
      "    accuracy                         0.9950      7815\n",
      "   macro avg     0.9950    0.9950    0.9950      7815\n",
      "weighted avg     0.9950    0.9950    0.9950      7815\n",
      "\n",
      "================================================================================\n"
     ]
    }
   ],
   "source": [
    "# ROS Balanced\n",
    "run_model(\"../Dataset/Raw/SQLi_ROS_Raw.csv\", model, vectorizer) "
   ]
  }
 ],
 "metadata": {
  "kernelspec": {
   "display_name": "Python 3",
   "language": "python",
   "name": "python3"
  },
  "language_info": {
   "codemirror_mode": {
    "name": "ipython",
    "version": 3
   },
   "file_extension": ".py",
   "mimetype": "text/x-python",
   "name": "python",
   "nbconvert_exporter": "python",
   "pygments_lexer": "ipython3",
   "version": "3.12.10"
  }
 },
 "nbformat": 4,
 "nbformat_minor": 5
}
