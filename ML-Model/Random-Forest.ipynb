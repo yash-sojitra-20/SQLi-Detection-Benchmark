{
 "cells": [
  {
   "cell_type": "code",
   "execution_count": 1,
   "id": "b8e86af5",
   "metadata": {},
   "outputs": [],
   "source": [
    "# Random Forest\n",
    "def run_model(dataset_path, model, vectorizer):\n",
    "    import pandas as pd\n",
    "    from sklearn.model_selection import train_test_split\n",
    "    from sklearn.metrics import classification_report, accuracy_score, confusion_matrix\n",
    "\n",
    "    # Load dataset\n",
    "    df = pd.read_csv(dataset_path)\n",
    "    X = df['Query']\n",
    "    y = df['Label']\n",
    "\n",
    "    # Train-test split\n",
    "    X_train, X_test, y_train, y_test = train_test_split(X, y, test_size=0.2, stratify=y, random_state=42)\n",
    "\n",
    "    # TF-IDF vectorization\n",
    "    X_train_vec = vectorizer.fit_transform(X_train)\n",
    "    X_test_vec = vectorizer.transform(X_test)\n",
    "\n",
    "    # Train model\n",
    "    model.fit(X_train_vec, y_train)\n",
    "\n",
    "    # Predict and evaluate\n",
    "    y_pred = model.predict(X_test_vec)\n",
    "    print(\"=\" * 80)\n",
    "    print(f\"Results for {model.__class__.__name__} on {dataset_path}\")\n",
    "    print(\"Accuracy:\", accuracy_score(y_test, y_pred))\n",
    "    print(\"Confusion Matrix:\\n\", confusion_matrix(y_test, y_pred))\n",
    "    print(\"Classification Report:\\n\", classification_report(y_test, y_pred, digits=4))\n",
    "    print(\"=\" * 80)\n"
   ]
  },
  {
   "cell_type": "code",
   "execution_count": 3,
   "id": "4252d228",
   "metadata": {},
   "outputs": [],
   "source": [
    "# SetUp\n",
    "from sklearn.ensemble import RandomForestClassifier\n",
    "from sklearn.feature_extraction.text import TfidfVectorizer\n",
    "\n",
    "# TF-IDF vectorizer (same char-level n-grams as before)\n",
    "vectorizer = TfidfVectorizer(analyzer='char_wb', ngram_range=(3,6), max_features=5000)\n",
    "\n",
    "# Random Forest model\n",
    "model = RandomForestClassifier(\n",
    "    n_estimators=100,      # Number of trees\n",
    "    max_depth=None,        # Let trees grow fully\n",
    "    random_state=42,\n",
    "    n_jobs=-1              # Use all cores for speed\n",
    ")"
   ]
  },
  {
   "cell_type": "code",
   "execution_count": 4,
   "id": "98387b2c",
   "metadata": {},
   "outputs": [
    {
     "name": "stdout",
     "output_type": "stream",
     "text": [
      "================================================================================\n",
      "Results for RandomForestClassifier on ../Dataset/Raw/SQLi_Original_Raw.csv\n",
      "Accuracy: 0.9961190168175937\n",
      "Confusion Matrix:\n",
      " [[3907    1]\n",
      " [  23 2253]]\n",
      "Classification Report:\n",
      "               precision    recall  f1-score   support\n",
      "\n",
      "           0     0.9941    0.9997    0.9969      3908\n",
      "           1     0.9996    0.9899    0.9947      2276\n",
      "\n",
      "    accuracy                         0.9961      6184\n",
      "   macro avg     0.9969    0.9948    0.9958      6184\n",
      "weighted avg     0.9961    0.9961    0.9961      6184\n",
      "\n",
      "================================================================================\n"
     ]
    }
   ],
   "source": [
    "  # Imbalanced\n",
    "run_model(\"../Dataset/Raw/SQLi_Original_Raw.csv\", model, vectorizer)"
   ]
  },
  {
   "cell_type": "code",
   "execution_count": 5,
   "id": "7006daa2",
   "metadata": {},
   "outputs": [
    {
     "name": "stdout",
     "output_type": "stream",
     "text": [
      "================================================================================\n",
      "Results for RandomForestClassifier on ../Dataset/Raw/SQLi_RUS_Raw.csv\n",
      "Accuracy: 0.9934109378431804\n",
      "Confusion Matrix:\n",
      " [[2271    6]\n",
      " [  24 2252]]\n",
      "Classification Report:\n",
      "               precision    recall  f1-score   support\n",
      "\n",
      "           0     0.9895    0.9974    0.9934      2277\n",
      "           1     0.9973    0.9895    0.9934      2276\n",
      "\n",
      "    accuracy                         0.9934      4553\n",
      "   macro avg     0.9934    0.9934    0.9934      4553\n",
      "weighted avg     0.9934    0.9934    0.9934      4553\n",
      "\n",
      "================================================================================\n"
     ]
    }
   ],
   "source": [
    "# RUS Balanced\n",
    "run_model(\"../Dataset/Raw/SQLi_RUS_Raw.csv\", model, vectorizer)  "
   ]
  },
  {
   "cell_type": "code",
   "execution_count": 6,
   "id": "daa67420",
   "metadata": {},
   "outputs": [
    {
     "name": "stdout",
     "output_type": "stream",
     "text": [
      "================================================================================\n",
      "Results for RandomForestClassifier on ../Dataset/Raw/SQLi_ROS_Raw.csv\n",
      "Accuracy: 0.9975687779910428\n",
      "Confusion Matrix:\n",
      " [[3905    3]\n",
      " [  16 3891]]\n",
      "Classification Report:\n",
      "               precision    recall  f1-score   support\n",
      "\n",
      "           0     0.9959    0.9992    0.9976      3908\n",
      "           1     0.9992    0.9959    0.9976      3907\n",
      "\n",
      "    accuracy                         0.9976      7815\n",
      "   macro avg     0.9976    0.9976    0.9976      7815\n",
      "weighted avg     0.9976    0.9976    0.9976      7815\n",
      "\n",
      "================================================================================\n"
     ]
    }
   ],
   "source": [
    "# ROS Balanced\n",
    "run_model(\"../Dataset/Raw/SQLi_ROS_Raw.csv\", model, vectorizer) "
   ]
  }
 ],
 "metadata": {
  "kernelspec": {
   "display_name": "Python 3",
   "language": "python",
   "name": "python3"
  },
  "language_info": {
   "codemirror_mode": {
    "name": "ipython",
    "version": 3
   },
   "file_extension": ".py",
   "mimetype": "text/x-python",
   "name": "python",
   "nbconvert_exporter": "python",
   "pygments_lexer": "ipython3",
   "version": "3.12.10"
  }
 },
 "nbformat": 4,
 "nbformat_minor": 5
}
