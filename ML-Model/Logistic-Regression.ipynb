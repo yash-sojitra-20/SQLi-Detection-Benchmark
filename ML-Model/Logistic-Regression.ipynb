{
 "cells": [
  {
   "cell_type": "code",
   "execution_count": 1,
   "id": "1e645118",
   "metadata": {},
   "outputs": [],
   "source": [
    "# Logistic Regression\n",
    "def run_model(dataset_path, model, vectorizer):\n",
    "    import pandas as pd\n",
    "    from sklearn.model_selection import train_test_split\n",
    "    from sklearn.metrics import classification_report, accuracy_score, confusion_matrix\n",
    "\n",
    "    # Load dataset\n",
    "    df = pd.read_csv(dataset_path)\n",
    "    X = df['Query']\n",
    "    y = df['Label']\n",
    "\n",
    "    # Split\n",
    "    X_train, X_test, y_train, y_test = train_test_split(X, y, test_size=0.2, random_state=42)\n",
    "\n",
    "    # TF-IDF\n",
    "    X_train_vec = vectorizer.fit_transform(X_train)\n",
    "    X_test_vec = vectorizer.transform(X_test)\n",
    "\n",
    "    # Train model\n",
    "    model.fit(X_train_vec, y_train)\n",
    "\n",
    "    # Predict & evaluate\n",
    "    y_pred = model.predict(X_test_vec)\n",
    "    print(\"=\"*80)\n",
    "    print(f\"\\nResults for {model.__class__.__name__} on {dataset_path}\")\n",
    "    print(\"Accuracy:\", accuracy_score(y_test, y_pred))\n",
    "    print(\"Confusion Matrix:\\n\", confusion_matrix(y_test, y_pred))\n",
    "    print(\"Classification Report:\\n\", classification_report(y_test, y_pred, digits=4))\n",
    "    print(\"=\"*80)\n",
    "    "
   ]
  },
  {
   "cell_type": "code",
   "execution_count": 2,
   "id": "13d57249",
   "metadata": {},
   "outputs": [],
   "source": [
    "# Setup\n",
    "from sklearn.linear_model import LogisticRegression\n",
    "from sklearn.feature_extraction.text import TfidfVectorizer\n",
    "\n",
    "vectorizer = TfidfVectorizer(analyzer='char_wb', ngram_range=(3,6), max_features=5000)\n",
    "model = LogisticRegression(max_iter=1000)"
   ]
  },
  {
   "cell_type": "code",
   "execution_count": 3,
   "id": "1d85a809",
   "metadata": {},
   "outputs": [
    {
     "name": "stdout",
     "output_type": "stream",
     "text": [
      "================================================================================\n",
      "\n",
      "Results for LogisticRegression on ../Dataset/Raw/SQLi_Original_Raw.csv\n",
      "Accuracy: 0.9938551099611902\n",
      "Confusion Matrix:\n",
      " [[3889    4]\n",
      " [  34 2257]]\n",
      "Classification Report:\n",
      "               precision    recall  f1-score   support\n",
      "\n",
      "           0     0.9913    0.9990    0.9951      3893\n",
      "           1     0.9982    0.9852    0.9917      2291\n",
      "\n",
      "    accuracy                         0.9939      6184\n",
      "   macro avg     0.9948    0.9921    0.9934      6184\n",
      "weighted avg     0.9939    0.9939    0.9938      6184\n",
      "\n",
      "================================================================================\n"
     ]
    }
   ],
   "source": [
    "# imbalance \n",
    "run_model(\"../Dataset/Raw/SQLi_Original_Raw.csv\", model, vectorizer)"
   ]
  },
  {
   "cell_type": "code",
   "execution_count": 4,
   "id": "b64fdc8d",
   "metadata": {},
   "outputs": [
    {
     "name": "stdout",
     "output_type": "stream",
     "text": [
      "================================================================================\n",
      "\n",
      "Results for LogisticRegression on ../Dataset/Raw/SQLi_RUS_Raw.csv\n",
      "Accuracy: 0.9934109378431804\n",
      "Confusion Matrix:\n",
      " [[2265    5]\n",
      " [  25 2258]]\n",
      "Classification Report:\n",
      "               precision    recall  f1-score   support\n",
      "\n",
      "           0     0.9891    0.9978    0.9934      2270\n",
      "           1     0.9978    0.9890    0.9934      2283\n",
      "\n",
      "    accuracy                         0.9934      4553\n",
      "   macro avg     0.9934    0.9934    0.9934      4553\n",
      "weighted avg     0.9934    0.9934    0.9934      4553\n",
      "\n",
      "================================================================================\n"
     ]
    }
   ],
   "source": [
    "# balance - RUS (Random under sampling)\n",
    "run_model(\"../Dataset/Raw/SQLi_RUS_Raw.csv\", model, vectorizer)"
   ]
  },
  {
   "cell_type": "code",
   "execution_count": 5,
   "id": "96c9d077",
   "metadata": {},
   "outputs": [
    {
     "name": "stdout",
     "output_type": "stream",
     "text": [
      "================================================================================\n",
      "\n",
      "Results for LogisticRegression on ../Dataset/Raw/SQLi_ROS_Raw.csv\n",
      "Accuracy: 0.9933461292386436\n",
      "Confusion Matrix:\n",
      " [[3867    3]\n",
      " [  49 3896]]\n",
      "Classification Report:\n",
      "               precision    recall  f1-score   support\n",
      "\n",
      "           0     0.9875    0.9992    0.9933      3870\n",
      "           1     0.9992    0.9876    0.9934      3945\n",
      "\n",
      "    accuracy                         0.9933      7815\n",
      "   macro avg     0.9934    0.9934    0.9933      7815\n",
      "weighted avg     0.9934    0.9933    0.9933      7815\n",
      "\n",
      "================================================================================\n"
     ]
    }
   ],
   "source": [
    "# balance - ROS (Random over sampling)\n",
    "run_model(\"../Dataset/Raw/SQLi_ROS_Raw.csv\", model, vectorizer)"
   ]
  }
 ],
 "metadata": {
  "kernelspec": {
   "display_name": "Python 3",
   "language": "python",
   "name": "python3"
  },
  "language_info": {
   "codemirror_mode": {
    "name": "ipython",
    "version": 3
   },
   "file_extension": ".py",
   "mimetype": "text/x-python",
   "name": "python",
   "nbconvert_exporter": "python",
   "pygments_lexer": "ipython3",
   "version": "3.12.10"
  }
 },
 "nbformat": 4,
 "nbformat_minor": 5
}
