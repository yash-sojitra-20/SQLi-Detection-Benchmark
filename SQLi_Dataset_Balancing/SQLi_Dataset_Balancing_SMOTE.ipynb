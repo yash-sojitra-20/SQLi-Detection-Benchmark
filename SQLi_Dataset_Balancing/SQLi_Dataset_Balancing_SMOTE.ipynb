{
 "cells": [
  {
   "cell_type": "code",
   "execution_count": null,
   "id": "46a00b66",
   "metadata": {},
   "outputs": [],
   "source": [
    "# import pandas as pd\n",
    "# from sklearn.feature_extraction.text import TfidfVectorizer\n",
    "# from imblearn.over_sampling import SMOTE\n",
    "\n",
    "# # Load original dataset\n",
    "# df = pd.read_csv(\"../Dataset/SQLi_Dataset.csv\")\n",
    "\n",
    "# X_text = df['Query']\n",
    "# y = df['Label']\n",
    "\n",
    "# # TF-IDF transformation\n",
    "# vectorizer = TfidfVectorizer(max_features=1000)\n",
    "# X_tfidf = vectorizer.fit_transform(X_text)\n",
    "\n",
    "# # Apply SMOTE\n",
    "# smote = SMOTE(random_state=42)\n",
    "# X_smote, y_smote = smote.fit_resample(X_tfidf, y)\n",
    "\n",
    "# # Save to CSV\n",
    "# X_smote_df = pd.DataFrame(X_smote.toarray(), columns=vectorizer.get_feature_names_out())\n",
    "# X_smote_df['Label'] = y_smote\n",
    "# X_smote_df.to_csv(\"../Dataset/TFIDF/SQLi_SMOTE_TFIDF.csv\", index=False)\n"
   ]
  }
 ],
 "metadata": {
  "kernelspec": {
   "display_name": "Python 3",
   "language": "python",
   "name": "python3"
  },
  "language_info": {
   "codemirror_mode": {
    "name": "ipython",
    "version": 3
   },
   "file_extension": ".py",
   "mimetype": "text/x-python",
   "name": "python",
   "nbconvert_exporter": "python",
   "pygments_lexer": "ipython3",
   "version": "3.12.10"
  }
 },
 "nbformat": 4,
 "nbformat_minor": 5
}
